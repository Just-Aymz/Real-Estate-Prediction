{
 "cells": [
  {
   "cell_type": "markdown",
   "metadata": {},
   "source": [
    "# **Import Libraries**\n",
    "___"
   ]
  },
  {
   "cell_type": "code",
   "execution_count": 1,
   "metadata": {},
   "outputs": [],
   "source": [
    "# Analysis Libraries\n",
    "import pandas as pd\n",
    "import numpy as np\n",
    "\n",
    "# Plotting Libraries\n",
    "import matplotlib.pyplot as plt\n",
    "import seaborn as sns\n",
    "\n",
    "#  Miscellaneous Libraries\n",
    "import pickle \n",
    "import ast\n",
    "from typing import Optional, Union\n",
    "import re\n",
    "\n",
    "# Machine Learning and Statistics Libraries \n",
    "from statsmodels.stats.outliers_influence import variance_inflation_factor\n",
    "from sklearn.metrics import mean_squared_error, r2_score, mutual_info_score, classification_report\n",
    "from sklearn.linear_model import LinearRegression\n",
    "from sklearn.ensemble import RandomForestRegressor, GradientBoostingRegressor\n",
    "from sklearn.model_selection import train_test_split, GridSearchCV, cross_val_score\n",
    "import xgboost as xgb\n",
    "from sklearn.svm import SVR"
   ]
  },
  {
   "cell_type": "markdown",
   "metadata": {},
   "source": [
    "# **Read Files** \n",
    "___\n",
    "Read in the files that will be needed and set options for the visualization of dataframes."
   ]
  },
  {
   "cell_type": "code",
   "execution_count": 2,
   "metadata": {},
   "outputs": [
    {
     "name": "stderr",
     "output_type": "stream",
     "text": [
      "<>:2: SyntaxWarning: invalid escape sequence '\\m'\n",
      "<>:2: SyntaxWarning: invalid escape sequence '\\m'\n",
      "C:\\Users\\Lenovo S145\\AppData\\Local\\Temp\\ipykernel_26596\\124732219.py:2: SyntaxWarning: invalid escape sequence '\\m'\n",
      "  df = pd.read_csv('Data\\modeling_df.csv')\n"
     ]
    }
   ],
   "source": [
    "# Read in modeling dataframe\n",
    "df = pd.read_csv('Data\\modeling_df.csv')\n",
    "\n",
    "# Set dataframes to return all the features and not truncated.\n",
    "pd.set_option('display.max_columns', None)"
   ]
  },
  {
   "cell_type": "markdown",
   "metadata": {},
   "source": [
    "# **Dataset Identification**\n",
    "___\n",
    "Identify the shape and size of the dataset along with its axes and datatypes for each feature to understand the overall structure of the dataset that has been read in. "
   ]
  },
  {
   "cell_type": "code",
   "execution_count": 3,
   "metadata": {},
   "outputs": [
    {
     "name": "stdout",
     "output_type": "stream",
     "text": [
      "Shape of Dataset: (5053, 18)\n",
      "Size of Dataset: 90954\n"
     ]
    }
   ],
   "source": [
    "# Return the shape and size of the dataset\n",
    "print(f'Shape of Dataset: {df.shape}\\nSize of Dataset: {df.size}')"
   ]
  },
  {
   "cell_type": "code",
   "execution_count": 4,
   "metadata": {},
   "outputs": [
    {
     "name": "stdout",
     "output_type": "stream",
     "text": [
      "There are a total of 628 duplicate values, and 0 null values in the dataframe.\n"
     ]
    }
   ],
   "source": [
    "# Return the total number of null values and the total number of duplicates to confirm the cleaning process\n",
    "dupes = df.duplicated().sum()\n",
    "nulls = np.count_nonzero(df.isnull().values)\n",
    "print(f'There are a total of {dupes} duplicate values, and {nulls} null values in the dataframe.')"
   ]
  },
  {
   "cell_type": "code",
   "execution_count": 5,
   "metadata": {},
   "outputs": [],
   "source": [
    "# drop the duplicate values\n",
    "df.drop_duplicates(ignore_index=True, inplace=True)"
   ]
  },
  {
   "cell_type": "code",
   "execution_count": 6,
   "metadata": {},
   "outputs": [
    {
     "data": {
      "text/plain": [
       "[RangeIndex(start=0, stop=4425, step=1),\n",
       " Index(['price_(R)', 'Floor_size_(m²)', 'Bedrooms', 'Bathrooms', 'Lounges',\n",
       "        'Property_type_Bachelor', 'Property_type_Cluster',\n",
       "        'Property_type_Duplex', 'Property_type_Flat', 'Property_type_House',\n",
       "        'Property_type_Loft', 'Property_type_Penthouse',\n",
       "        'Property_type_Simplex', 'Property_type_Small Holding',\n",
       "        'Property_type_Studio', 'Property_type_Townhouse',\n",
       "        'suburb_Modderfontein', 'suburb_Rosebank and Parktown'],\n",
       "       dtype='object')]"
      ]
     },
     "execution_count": 6,
     "metadata": {},
     "output_type": "execute_result"
    }
   ],
   "source": [
    "# Return the axes of the dataset\n",
    "df.axes"
   ]
  },
  {
   "cell_type": "code",
   "execution_count": 7,
   "metadata": {},
   "outputs": [
    {
     "data": {
      "text/plain": [
       "price_(R)                       float64\n",
       "Floor_size_(m²)                 float64\n",
       "Bedrooms                        float64\n",
       "Bathrooms                       float64\n",
       "Lounges                         float64\n",
       "Property_type_Bachelor            int64\n",
       "Property_type_Cluster             int64\n",
       "Property_type_Duplex              int64\n",
       "Property_type_Flat                int64\n",
       "Property_type_House               int64\n",
       "Property_type_Loft                int64\n",
       "Property_type_Penthouse           int64\n",
       "Property_type_Simplex             int64\n",
       "Property_type_Small Holding       int64\n",
       "Property_type_Studio              int64\n",
       "Property_type_Townhouse           int64\n",
       "suburb_Modderfontein              int64\n",
       "suburb_Rosebank and Parktown      int64\n",
       "dtype: object"
      ]
     },
     "execution_count": 7,
     "metadata": {},
     "output_type": "execute_result"
    }
   ],
   "source": [
    "# Return the datatypes of each feature\n",
    "df.dtypes"
   ]
  },
  {
   "cell_type": "code",
   "execution_count": 8,
   "metadata": {},
   "outputs": [
    {
     "data": {
      "text/html": [
       "<div>\n",
       "<style scoped>\n",
       "    .dataframe tbody tr th:only-of-type {\n",
       "        vertical-align: middle;\n",
       "    }\n",
       "\n",
       "    .dataframe tbody tr th {\n",
       "        vertical-align: top;\n",
       "    }\n",
       "\n",
       "    .dataframe thead th {\n",
       "        text-align: right;\n",
       "    }\n",
       "</style>\n",
       "<table border=\"1\" class=\"dataframe\">\n",
       "  <thead>\n",
       "    <tr style=\"text-align: right;\">\n",
       "      <th></th>\n",
       "      <th>price_(R)</th>\n",
       "      <th>Floor_size_(m²)</th>\n",
       "      <th>Bedrooms</th>\n",
       "      <th>Bathrooms</th>\n",
       "      <th>Lounges</th>\n",
       "      <th>Property_type_Bachelor</th>\n",
       "      <th>Property_type_Cluster</th>\n",
       "      <th>Property_type_Duplex</th>\n",
       "      <th>Property_type_Flat</th>\n",
       "      <th>Property_type_House</th>\n",
       "      <th>Property_type_Loft</th>\n",
       "      <th>Property_type_Penthouse</th>\n",
       "      <th>Property_type_Simplex</th>\n",
       "      <th>Property_type_Small Holding</th>\n",
       "      <th>Property_type_Studio</th>\n",
       "      <th>Property_type_Townhouse</th>\n",
       "      <th>suburb_Modderfontein</th>\n",
       "      <th>suburb_Rosebank and Parktown</th>\n",
       "    </tr>\n",
       "  </thead>\n",
       "  <tbody>\n",
       "    <tr>\n",
       "      <th>0</th>\n",
       "      <td>-0.268264</td>\n",
       "      <td>-0.399989</td>\n",
       "      <td>0.0</td>\n",
       "      <td>-1.000000</td>\n",
       "      <td>0.0</td>\n",
       "      <td>0</td>\n",
       "      <td>0</td>\n",
       "      <td>0</td>\n",
       "      <td>0</td>\n",
       "      <td>0</td>\n",
       "      <td>0</td>\n",
       "      <td>0</td>\n",
       "      <td>0</td>\n",
       "      <td>0</td>\n",
       "      <td>0</td>\n",
       "      <td>0</td>\n",
       "      <td>0</td>\n",
       "      <td>1</td>\n",
       "    </tr>\n",
       "    <tr>\n",
       "      <th>1</th>\n",
       "      <td>0.418202</td>\n",
       "      <td>0.087802</td>\n",
       "      <td>0.0</td>\n",
       "      <td>-1.000000</td>\n",
       "      <td>0.0</td>\n",
       "      <td>0</td>\n",
       "      <td>0</td>\n",
       "      <td>0</td>\n",
       "      <td>1</td>\n",
       "      <td>0</td>\n",
       "      <td>0</td>\n",
       "      <td>0</td>\n",
       "      <td>0</td>\n",
       "      <td>0</td>\n",
       "      <td>0</td>\n",
       "      <td>0</td>\n",
       "      <td>0</td>\n",
       "      <td>1</td>\n",
       "    </tr>\n",
       "    <tr>\n",
       "      <th>2</th>\n",
       "      <td>0.724693</td>\n",
       "      <td>0.614540</td>\n",
       "      <td>1.0</td>\n",
       "      <td>0.709511</td>\n",
       "      <td>0.0</td>\n",
       "      <td>0</td>\n",
       "      <td>0</td>\n",
       "      <td>0</td>\n",
       "      <td>0</td>\n",
       "      <td>1</td>\n",
       "      <td>0</td>\n",
       "      <td>0</td>\n",
       "      <td>0</td>\n",
       "      <td>0</td>\n",
       "      <td>0</td>\n",
       "      <td>0</td>\n",
       "      <td>0</td>\n",
       "      <td>1</td>\n",
       "    </tr>\n",
       "    <tr>\n",
       "      <th>3</th>\n",
       "      <td>-0.723314</td>\n",
       "      <td>-0.429638</td>\n",
       "      <td>0.0</td>\n",
       "      <td>0.000000</td>\n",
       "      <td>1.0</td>\n",
       "      <td>0</td>\n",
       "      <td>0</td>\n",
       "      <td>0</td>\n",
       "      <td>0</td>\n",
       "      <td>0</td>\n",
       "      <td>0</td>\n",
       "      <td>0</td>\n",
       "      <td>0</td>\n",
       "      <td>0</td>\n",
       "      <td>0</td>\n",
       "      <td>0</td>\n",
       "      <td>0</td>\n",
       "      <td>1</td>\n",
       "    </tr>\n",
       "    <tr>\n",
       "      <th>4</th>\n",
       "      <td>0.051897</td>\n",
       "      <td>-1.175050</td>\n",
       "      <td>-1.0</td>\n",
       "      <td>-1.000000</td>\n",
       "      <td>1.0</td>\n",
       "      <td>0</td>\n",
       "      <td>0</td>\n",
       "      <td>0</td>\n",
       "      <td>0</td>\n",
       "      <td>0</td>\n",
       "      <td>0</td>\n",
       "      <td>0</td>\n",
       "      <td>0</td>\n",
       "      <td>0</td>\n",
       "      <td>0</td>\n",
       "      <td>0</td>\n",
       "      <td>0</td>\n",
       "      <td>1</td>\n",
       "    </tr>\n",
       "  </tbody>\n",
       "</table>\n",
       "</div>"
      ],
      "text/plain": [
       "   price_(R)  Floor_size_(m²)  Bedrooms  Bathrooms  Lounges  \\\n",
       "0  -0.268264        -0.399989       0.0  -1.000000      0.0   \n",
       "1   0.418202         0.087802       0.0  -1.000000      0.0   \n",
       "2   0.724693         0.614540       1.0   0.709511      0.0   \n",
       "3  -0.723314        -0.429638       0.0   0.000000      1.0   \n",
       "4   0.051897        -1.175050      -1.0  -1.000000      1.0   \n",
       "\n",
       "   Property_type_Bachelor  Property_type_Cluster  Property_type_Duplex  \\\n",
       "0                       0                      0                     0   \n",
       "1                       0                      0                     0   \n",
       "2                       0                      0                     0   \n",
       "3                       0                      0                     0   \n",
       "4                       0                      0                     0   \n",
       "\n",
       "   Property_type_Flat  Property_type_House  Property_type_Loft  \\\n",
       "0                   0                    0                   0   \n",
       "1                   1                    0                   0   \n",
       "2                   0                    1                   0   \n",
       "3                   0                    0                   0   \n",
       "4                   0                    0                   0   \n",
       "\n",
       "   Property_type_Penthouse  Property_type_Simplex  \\\n",
       "0                        0                      0   \n",
       "1                        0                      0   \n",
       "2                        0                      0   \n",
       "3                        0                      0   \n",
       "4                        0                      0   \n",
       "\n",
       "   Property_type_Small Holding  Property_type_Studio  Property_type_Townhouse  \\\n",
       "0                            0                     0                        0   \n",
       "1                            0                     0                        0   \n",
       "2                            0                     0                        0   \n",
       "3                            0                     0                        0   \n",
       "4                            0                     0                        0   \n",
       "\n",
       "   suburb_Modderfontein  suburb_Rosebank and Parktown  \n",
       "0                     0                             1  \n",
       "1                     0                             1  \n",
       "2                     0                             1  \n",
       "3                     0                             1  \n",
       "4                     0                             1  "
      ]
     },
     "execution_count": 8,
     "metadata": {},
     "output_type": "execute_result"
    }
   ],
   "source": [
    "# Return the top 5 rows of the dataframe\n",
    "df.head()"
   ]
  },
  {
   "cell_type": "code",
   "execution_count": 9,
   "metadata": {},
   "outputs": [
    {
     "data": {
      "text/html": [
       "<div>\n",
       "<style scoped>\n",
       "    .dataframe tbody tr th:only-of-type {\n",
       "        vertical-align: middle;\n",
       "    }\n",
       "\n",
       "    .dataframe tbody tr th {\n",
       "        vertical-align: top;\n",
       "    }\n",
       "\n",
       "    .dataframe thead th {\n",
       "        text-align: right;\n",
       "    }\n",
       "</style>\n",
       "<table border=\"1\" class=\"dataframe\">\n",
       "  <thead>\n",
       "    <tr style=\"text-align: right;\">\n",
       "      <th></th>\n",
       "      <th>price_(R)</th>\n",
       "      <th>Floor_size_(m²)</th>\n",
       "      <th>Bedrooms</th>\n",
       "      <th>Bathrooms</th>\n",
       "      <th>Lounges</th>\n",
       "      <th>Property_type_Bachelor</th>\n",
       "      <th>Property_type_Cluster</th>\n",
       "      <th>Property_type_Duplex</th>\n",
       "      <th>Property_type_Flat</th>\n",
       "      <th>Property_type_House</th>\n",
       "      <th>Property_type_Loft</th>\n",
       "      <th>Property_type_Penthouse</th>\n",
       "      <th>Property_type_Simplex</th>\n",
       "      <th>Property_type_Small Holding</th>\n",
       "      <th>Property_type_Studio</th>\n",
       "      <th>Property_type_Townhouse</th>\n",
       "      <th>suburb_Modderfontein</th>\n",
       "      <th>suburb_Rosebank and Parktown</th>\n",
       "    </tr>\n",
       "  </thead>\n",
       "  <tbody>\n",
       "    <tr>\n",
       "      <th>4420</th>\n",
       "      <td>-0.100130</td>\n",
       "      <td>-0.010204</td>\n",
       "      <td>0.0</td>\n",
       "      <td>0.0</td>\n",
       "      <td>0.0</td>\n",
       "      <td>0</td>\n",
       "      <td>0</td>\n",
       "      <td>0</td>\n",
       "      <td>0</td>\n",
       "      <td>0</td>\n",
       "      <td>0</td>\n",
       "      <td>0</td>\n",
       "      <td>0</td>\n",
       "      <td>0</td>\n",
       "      <td>0</td>\n",
       "      <td>0</td>\n",
       "      <td>1</td>\n",
       "      <td>0</td>\n",
       "    </tr>\n",
       "    <tr>\n",
       "      <th>4421</th>\n",
       "      <td>-0.099356</td>\n",
       "      <td>-0.041399</td>\n",
       "      <td>1.0</td>\n",
       "      <td>0.0</td>\n",
       "      <td>1.0</td>\n",
       "      <td>0</td>\n",
       "      <td>0</td>\n",
       "      <td>0</td>\n",
       "      <td>0</td>\n",
       "      <td>0</td>\n",
       "      <td>0</td>\n",
       "      <td>0</td>\n",
       "      <td>0</td>\n",
       "      <td>0</td>\n",
       "      <td>0</td>\n",
       "      <td>0</td>\n",
       "      <td>1</td>\n",
       "      <td>0</td>\n",
       "    </tr>\n",
       "    <tr>\n",
       "      <th>4422</th>\n",
       "      <td>-0.061478</td>\n",
       "      <td>-0.062699</td>\n",
       "      <td>1.0</td>\n",
       "      <td>0.0</td>\n",
       "      <td>1.0</td>\n",
       "      <td>0</td>\n",
       "      <td>0</td>\n",
       "      <td>0</td>\n",
       "      <td>0</td>\n",
       "      <td>0</td>\n",
       "      <td>0</td>\n",
       "      <td>0</td>\n",
       "      <td>0</td>\n",
       "      <td>0</td>\n",
       "      <td>0</td>\n",
       "      <td>0</td>\n",
       "      <td>1</td>\n",
       "      <td>0</td>\n",
       "    </tr>\n",
       "    <tr>\n",
       "      <th>4423</th>\n",
       "      <td>0.010457</td>\n",
       "      <td>-0.385460</td>\n",
       "      <td>1.0</td>\n",
       "      <td>0.0</td>\n",
       "      <td>0.0</td>\n",
       "      <td>0</td>\n",
       "      <td>0</td>\n",
       "      <td>0</td>\n",
       "      <td>0</td>\n",
       "      <td>0</td>\n",
       "      <td>0</td>\n",
       "      <td>0</td>\n",
       "      <td>0</td>\n",
       "      <td>0</td>\n",
       "      <td>0</td>\n",
       "      <td>0</td>\n",
       "      <td>1</td>\n",
       "      <td>0</td>\n",
       "    </tr>\n",
       "    <tr>\n",
       "      <th>4424</th>\n",
       "      <td>-0.393826</td>\n",
       "      <td>0.614540</td>\n",
       "      <td>-1.0</td>\n",
       "      <td>-1.0</td>\n",
       "      <td>1.0</td>\n",
       "      <td>0</td>\n",
       "      <td>0</td>\n",
       "      <td>0</td>\n",
       "      <td>0</td>\n",
       "      <td>0</td>\n",
       "      <td>0</td>\n",
       "      <td>0</td>\n",
       "      <td>0</td>\n",
       "      <td>0</td>\n",
       "      <td>0</td>\n",
       "      <td>0</td>\n",
       "      <td>1</td>\n",
       "      <td>0</td>\n",
       "    </tr>\n",
       "  </tbody>\n",
       "</table>\n",
       "</div>"
      ],
      "text/plain": [
       "      price_(R)  Floor_size_(m²)  Bedrooms  Bathrooms  Lounges  \\\n",
       "4420  -0.100130        -0.010204       0.0        0.0      0.0   \n",
       "4421  -0.099356        -0.041399       1.0        0.0      1.0   \n",
       "4422  -0.061478        -0.062699       1.0        0.0      1.0   \n",
       "4423   0.010457        -0.385460       1.0        0.0      0.0   \n",
       "4424  -0.393826         0.614540      -1.0       -1.0      1.0   \n",
       "\n",
       "      Property_type_Bachelor  Property_type_Cluster  Property_type_Duplex  \\\n",
       "4420                       0                      0                     0   \n",
       "4421                       0                      0                     0   \n",
       "4422                       0                      0                     0   \n",
       "4423                       0                      0                     0   \n",
       "4424                       0                      0                     0   \n",
       "\n",
       "      Property_type_Flat  Property_type_House  Property_type_Loft  \\\n",
       "4420                   0                    0                   0   \n",
       "4421                   0                    0                   0   \n",
       "4422                   0                    0                   0   \n",
       "4423                   0                    0                   0   \n",
       "4424                   0                    0                   0   \n",
       "\n",
       "      Property_type_Penthouse  Property_type_Simplex  \\\n",
       "4420                        0                      0   \n",
       "4421                        0                      0   \n",
       "4422                        0                      0   \n",
       "4423                        0                      0   \n",
       "4424                        0                      0   \n",
       "\n",
       "      Property_type_Small Holding  Property_type_Studio  \\\n",
       "4420                            0                     0   \n",
       "4421                            0                     0   \n",
       "4422                            0                     0   \n",
       "4423                            0                     0   \n",
       "4424                            0                     0   \n",
       "\n",
       "      Property_type_Townhouse  suburb_Modderfontein  \\\n",
       "4420                        0                     1   \n",
       "4421                        0                     1   \n",
       "4422                        0                     1   \n",
       "4423                        0                     1   \n",
       "4424                        0                     1   \n",
       "\n",
       "      suburb_Rosebank and Parktown  \n",
       "4420                             0  \n",
       "4421                             0  \n",
       "4422                             0  \n",
       "4423                             0  \n",
       "4424                             0  "
      ]
     },
     "execution_count": 9,
     "metadata": {},
     "output_type": "execute_result"
    }
   ],
   "source": [
    "# Return the bottom 5 rows of the dataset\n",
    "df.tail()"
   ]
  },
  {
   "cell_type": "markdown",
   "metadata": {},
   "source": [
    "# **Predictive Analysis**\n",
    "___\n",
    "Predictive analysis involves using statistical techniques and machine learning algorithms to analyze historical data and make informed predictions about future outcomes. Using the predictor features, we look to be able to predict the price of a property, given the information we have."
   ]
  },
  {
   "cell_type": "markdown",
   "metadata": {},
   "source": [
    "## 1. **Split Data**\n",
    "\n",
    "During this process, we split the data into our dependent and independent variables. Dependent variables are the features required to train the model in order to make the predictions, which will be compared to the dependent variable to evaluate the performance of our machine learning algorithm."
   ]
  },
  {
   "cell_type": "code",
   "execution_count": 10,
   "metadata": {},
   "outputs": [],
   "source": [
    "# Store the dependent and the independent variables\n",
    "X = df.drop(columns=['price_(R)'])\n",
    "y = df['price_(R)']\n",
    "\n",
    "# Split into training and test data \n",
    "X_train, X_test, y_train, y_test = train_test_split(X, y, test_size=0.2, random_state=8)"
   ]
  },
  {
   "cell_type": "markdown",
   "metadata": {},
   "source": [
    "## 2. **Correlation Analysis**\n",
    "___\n",
    "\n",
    "In this process, we look to find the correlation coefficient of the dependent features, to that of the dependent feature. This is in order to find the features that are most likely good predictors for the dependent feature. This is also done to view the relationship between independent variables. This is done to find potential multicollinearity, which is when features have a direct relationship (whether positive, or negative), which would affect the coefficients of each feature, as the premise of the relationship between a dependent variable and its independent variables, is based on the reasoning that *feature_a* for example, causes the dependent variable to move by one unit when it changes by it's coefficient value, given that all other features are kept constant. This cannot happpen if there is a direct relationship between different independent features because the increase in the one will result in the decrease in the other if the relationship can be defined as negative with a coefficient of -0.8 for example. "
   ]
  },
  {
   "cell_type": "markdown",
   "metadata": {},
   "source": [
    "### 2.1 **Correlation Heatmap**\n",
    "\n",
    "Visualizing of the relationship between features using correlation matrix and seaborn heatmap. "
   ]
  },
  {
   "cell_type": "code",
   "execution_count": 11,
   "metadata": {},
   "outputs": [
    {
     "data": {
      "image/png": "[encoded data removed]",
      "text/plain": [
       "<Figure size 1800x1200 with 2 Axes>"
      ]
     },
     "metadata": {},
     "output_type": "display_data"
    }
   ],
   "source": [
    "# Visualize the correlation matrix for the dataset\n",
    "corr_matrix = df.corr()\n",
    "\n",
    "plt.figure(figsize=(18,12))\n",
    "sns.heatmap(corr_matrix)\n",
    "plt.tight_layout()\n",
    "plt.show()"
   ]
  },
  {
   "cell_type": "markdown",
   "metadata": {},
   "source": [
    "### 2.2 **Variance Inflation Factor**\n",
    "\n",
    "A variance inflation factor (VIF) is a measure of the amount of multicollinearity in regression analysis. The higher the VIF, the higher the possibility that multicollinearity exists, and further research is required. When VIF is higher than 10, there is significant multicollinearity that needs to be corrected. In general terms:\n",
    "* VIF = 1: Variables are not correlated\n",
    "* 1 <= VIF <= 5: Variables are moderately correlated\n",
    "* VIF > 5: Variables are highly correlated"
   ]
  },
  {
   "cell_type": "code",
   "execution_count": 12,
   "metadata": {},
   "outputs": [
    {
     "name": "stderr",
     "output_type": "stream",
     "text": [
      "c:\\Users\\Lenovo S145\\Desktop\\Portfolio\\Property\\.venv\\Lib\\site-packages\\statsmodels\\regression\\linear_model.py:1784: RuntimeWarning: invalid value encountered in scalar divide\n",
      "  return 1 - self.ssr/self.uncentered_tss\n"
     ]
    },
    {
     "data": {
      "text/html": [
       "<div>\n",
       "<style scoped>\n",
       "    .dataframe tbody tr th:only-of-type {\n",
       "        vertical-align: middle;\n",
       "    }\n",
       "\n",
       "    .dataframe tbody tr th {\n",
       "        vertical-align: top;\n",
       "    }\n",
       "\n",
       "    .dataframe thead th {\n",
       "        text-align: right;\n",
       "    }\n",
       "</style>\n",
       "<table border=\"1\" class=\"dataframe\">\n",
       "  <thead>\n",
       "    <tr style=\"text-align: right;\">\n",
       "      <th></th>\n",
       "      <th>Variable</th>\n",
       "      <th>VIF</th>\n",
       "    </tr>\n",
       "  </thead>\n",
       "  <tbody>\n",
       "    <tr>\n",
       "      <th>1</th>\n",
       "      <td>Bedrooms</td>\n",
       "      <td>3.674159</td>\n",
       "    </tr>\n",
       "    <tr>\n",
       "      <th>8</th>\n",
       "      <td>Property_type_House</td>\n",
       "      <td>2.392716</td>\n",
       "    </tr>\n",
       "    <tr>\n",
       "      <th>0</th>\n",
       "      <td>Floor_size_(m²)</td>\n",
       "      <td>2.321447</td>\n",
       "    </tr>\n",
       "    <tr>\n",
       "      <th>2</th>\n",
       "      <td>Bathrooms</td>\n",
       "      <td>2.255346</td>\n",
       "    </tr>\n",
       "    <tr>\n",
       "      <th>3</th>\n",
       "      <td>Lounges</td>\n",
       "      <td>1.645434</td>\n",
       "    </tr>\n",
       "    <tr>\n",
       "      <th>16</th>\n",
       "      <td>suburb_Rosebank and Parktown</td>\n",
       "      <td>1.530049</td>\n",
       "    </tr>\n",
       "    <tr>\n",
       "      <th>5</th>\n",
       "      <td>Property_type_Cluster</td>\n",
       "      <td>1.106309</td>\n",
       "    </tr>\n",
       "    <tr>\n",
       "      <th>14</th>\n",
       "      <td>Property_type_Townhouse</td>\n",
       "      <td>1.094546</td>\n",
       "    </tr>\n",
       "    <tr>\n",
       "      <th>15</th>\n",
       "      <td>suburb_Modderfontein</td>\n",
       "      <td>1.062933</td>\n",
       "    </tr>\n",
       "    <tr>\n",
       "      <th>13</th>\n",
       "      <td>Property_type_Studio</td>\n",
       "      <td>1.028298</td>\n",
       "    </tr>\n",
       "    <tr>\n",
       "      <th>7</th>\n",
       "      <td>Property_type_Flat</td>\n",
       "      <td>1.011828</td>\n",
       "    </tr>\n",
       "    <tr>\n",
       "      <th>9</th>\n",
       "      <td>Property_type_Loft</td>\n",
       "      <td>1.008667</td>\n",
       "    </tr>\n",
       "    <tr>\n",
       "      <th>6</th>\n",
       "      <td>Property_type_Duplex</td>\n",
       "      <td>1.007156</td>\n",
       "    </tr>\n",
       "    <tr>\n",
       "      <th>10</th>\n",
       "      <td>Property_type_Penthouse</td>\n",
       "      <td>1.007042</td>\n",
       "    </tr>\n",
       "    <tr>\n",
       "      <th>11</th>\n",
       "      <td>Property_type_Simplex</td>\n",
       "      <td>1.005157</td>\n",
       "    </tr>\n",
       "    <tr>\n",
       "      <th>4</th>\n",
       "      <td>Property_type_Bachelor</td>\n",
       "      <td>1.002370</td>\n",
       "    </tr>\n",
       "    <tr>\n",
       "      <th>12</th>\n",
       "      <td>Property_type_Small Holding</td>\n",
       "      <td>NaN</td>\n",
       "    </tr>\n",
       "  </tbody>\n",
       "</table>\n",
       "</div>"
      ],
      "text/plain": [
       "                        Variable       VIF\n",
       "1                       Bedrooms  3.674159\n",
       "8            Property_type_House  2.392716\n",
       "0                Floor_size_(m²)  2.321447\n",
       "2                      Bathrooms  2.255346\n",
       "3                        Lounges  1.645434\n",
       "16  suburb_Rosebank and Parktown  1.530049\n",
       "5          Property_type_Cluster  1.106309\n",
       "14       Property_type_Townhouse  1.094546\n",
       "15          suburb_Modderfontein  1.062933\n",
       "13          Property_type_Studio  1.028298\n",
       "7             Property_type_Flat  1.011828\n",
       "9             Property_type_Loft  1.008667\n",
       "6           Property_type_Duplex  1.007156\n",
       "10       Property_type_Penthouse  1.007042\n",
       "11         Property_type_Simplex  1.005157\n",
       "4         Property_type_Bachelor  1.002370\n",
       "12   Property_type_Small Holding       NaN"
      ]
     },
     "execution_count": 12,
     "metadata": {},
     "output_type": "execute_result"
    }
   ],
   "source": [
    "# Calculate VIF for each predictor variable\n",
    "vif = pd.DataFrame()\n",
    "vif['Variable'] = X.columns\n",
    "vif['VIF'] = [variance_inflation_factor(X.values, i) for i in range(X.shape[1])]\n",
    "\n",
    "vif = vif.sort_values(by='VIF', ascending=False)\n",
    "vif"
   ]
  },
  {
   "cell_type": "markdown",
   "metadata": {},
   "source": [
    "### 2.3 **Feature Importance**\n",
    "\n",
    "Determine feature importance using the mutual info score of each column and the independent variable. This will identify the most important independent variable in determining the target variable."
   ]
  },
  {
   "cell_type": "code",
   "execution_count": 13,
   "metadata": {},
   "outputs": [
    {
     "name": "stderr",
     "output_type": "stream",
     "text": [
      "c:\\Users\\Lenovo S145\\Desktop\\Portfolio\\Property\\.venv\\Lib\\site-packages\\sklearn\\metrics\\cluster\\_supervised.py:66: UserWarning: Clustering metrics expects discrete values but received continuous values for label, and continuous values for target\n",
      "  warnings.warn(msg, UserWarning)\n",
      "c:\\Users\\Lenovo S145\\Desktop\\Portfolio\\Property\\.venv\\Lib\\site-packages\\sklearn\\metrics\\cluster\\_supervised.py:66: UserWarning: Clustering metrics expects discrete values but received continuous values for label, and continuous values for target\n",
      "  warnings.warn(msg, UserWarning)\n",
      "c:\\Users\\Lenovo S145\\Desktop\\Portfolio\\Property\\.venv\\Lib\\site-packages\\sklearn\\metrics\\cluster\\_supervised.py:66: UserWarning: Clustering metrics expects discrete values but received continuous values for label, and continuous values for target\n",
      "  warnings.warn(msg, UserWarning)\n",
      "c:\\Users\\Lenovo S145\\Desktop\\Portfolio\\Property\\.venv\\Lib\\site-packages\\sklearn\\metrics\\cluster\\_supervised.py:66: UserWarning: Clustering metrics expects discrete values but received continuous values for label, and continuous values for target\n",
      "  warnings.warn(msg, UserWarning)\n",
      "c:\\Users\\Lenovo S145\\Desktop\\Portfolio\\Property\\.venv\\Lib\\site-packages\\sklearn\\metrics\\cluster\\_supervised.py:66: UserWarning: Clustering metrics expects discrete values but received binary values for label, and continuous values for target\n",
      "  warnings.warn(msg, UserWarning)\n",
      "c:\\Users\\Lenovo S145\\Desktop\\Portfolio\\Property\\.venv\\Lib\\site-packages\\sklearn\\metrics\\cluster\\_supervised.py:66: UserWarning: Clustering metrics expects discrete values but received binary values for label, and continuous values for target\n",
      "  warnings.warn(msg, UserWarning)\n",
      "c:\\Users\\Lenovo S145\\Desktop\\Portfolio\\Property\\.venv\\Lib\\site-packages\\sklearn\\metrics\\cluster\\_supervised.py:66: UserWarning: Clustering metrics expects discrete values but received binary values for label, and continuous values for target\n",
      "  warnings.warn(msg, UserWarning)\n",
      "c:\\Users\\Lenovo S145\\Desktop\\Portfolio\\Property\\.venv\\Lib\\site-packages\\sklearn\\metrics\\cluster\\_supervised.py:66: UserWarning: Clustering metrics expects discrete values but received binary values for label, and continuous values for target\n",
      "  warnings.warn(msg, UserWarning)\n",
      "c:\\Users\\Lenovo S145\\Desktop\\Portfolio\\Property\\.venv\\Lib\\site-packages\\sklearn\\metrics\\cluster\\_supervised.py:66: UserWarning: Clustering metrics expects discrete values but received binary values for label, and continuous values for target\n",
      "  warnings.warn(msg, UserWarning)\n",
      "c:\\Users\\Lenovo S145\\Desktop\\Portfolio\\Property\\.venv\\Lib\\site-packages\\sklearn\\metrics\\cluster\\_supervised.py:66: UserWarning: Clustering metrics expects discrete values but received binary values for label, and continuous values for target\n",
      "  warnings.warn(msg, UserWarning)\n",
      "c:\\Users\\Lenovo S145\\Desktop\\Portfolio\\Property\\.venv\\Lib\\site-packages\\sklearn\\metrics\\cluster\\_supervised.py:66: UserWarning: Clustering metrics expects discrete values but received binary values for label, and continuous values for target\n",
      "  warnings.warn(msg, UserWarning)\n",
      "c:\\Users\\Lenovo S145\\Desktop\\Portfolio\\Property\\.venv\\Lib\\site-packages\\sklearn\\metrics\\cluster\\_supervised.py:66: UserWarning: Clustering metrics expects discrete values but received binary values for label, and continuous values for target\n",
      "  warnings.warn(msg, UserWarning)\n",
      "c:\\Users\\Lenovo S145\\Desktop\\Portfolio\\Property\\.venv\\Lib\\site-packages\\sklearn\\metrics\\cluster\\_supervised.py:66: UserWarning: Clustering metrics expects discrete values but received binary values for label, and continuous values for target\n",
      "  warnings.warn(msg, UserWarning)\n",
      "c:\\Users\\Lenovo S145\\Desktop\\Portfolio\\Property\\.venv\\Lib\\site-packages\\sklearn\\metrics\\cluster\\_supervised.py:66: UserWarning: Clustering metrics expects discrete values but received binary values for label, and continuous values for target\n",
      "  warnings.warn(msg, UserWarning)\n",
      "c:\\Users\\Lenovo S145\\Desktop\\Portfolio\\Property\\.venv\\Lib\\site-packages\\sklearn\\metrics\\cluster\\_supervised.py:66: UserWarning: Clustering metrics expects discrete values but received binary values for label, and continuous values for target\n",
      "  warnings.warn(msg, UserWarning)\n",
      "c:\\Users\\Lenovo S145\\Desktop\\Portfolio\\Property\\.venv\\Lib\\site-packages\\sklearn\\metrics\\cluster\\_supervised.py:66: UserWarning: Clustering metrics expects discrete values but received binary values for label, and continuous values for target\n",
      "  warnings.warn(msg, UserWarning)\n",
      "c:\\Users\\Lenovo S145\\Desktop\\Portfolio\\Property\\.venv\\Lib\\site-packages\\sklearn\\metrics\\cluster\\_supervised.py:66: UserWarning: Clustering metrics expects discrete values but received binary values for label, and continuous values for target\n",
      "  warnings.warn(msg, UserWarning)\n"
     ]
    },
    {
     "data": {
      "text/html": [
       "<div>\n",
       "<style scoped>\n",
       "    .dataframe tbody tr th:only-of-type {\n",
       "        vertical-align: middle;\n",
       "    }\n",
       "\n",
       "    .dataframe tbody tr th {\n",
       "        vertical-align: top;\n",
       "    }\n",
       "\n",
       "    .dataframe thead th {\n",
       "        text-align: right;\n",
       "    }\n",
       "</style>\n",
       "<table border=\"1\" class=\"dataframe\">\n",
       "  <thead>\n",
       "    <tr style=\"text-align: right;\">\n",
       "      <th></th>\n",
       "      <th>MI Score</th>\n",
       "    </tr>\n",
       "  </thead>\n",
       "  <tbody>\n",
       "    <tr>\n",
       "      <th>Floor_size_(m²)</th>\n",
       "      <td>2.618891</td>\n",
       "    </tr>\n",
       "    <tr>\n",
       "      <th>Bathrooms</th>\n",
       "      <td>0.775986</td>\n",
       "    </tr>\n",
       "    <tr>\n",
       "      <th>Bedrooms</th>\n",
       "      <td>0.681530</td>\n",
       "    </tr>\n",
       "    <tr>\n",
       "      <th>Lounges</th>\n",
       "      <td>0.322557</td>\n",
       "    </tr>\n",
       "    <tr>\n",
       "      <th>Property_type_House</th>\n",
       "      <td>0.293536</td>\n",
       "    </tr>\n",
       "    <tr>\n",
       "      <th>suburb_Rosebank and Parktown</th>\n",
       "      <td>0.258187</td>\n",
       "    </tr>\n",
       "    <tr>\n",
       "      <th>Property_type_Townhouse</th>\n",
       "      <td>0.076511</td>\n",
       "    </tr>\n",
       "    <tr>\n",
       "      <th>suburb_Modderfontein</th>\n",
       "      <td>0.065685</td>\n",
       "    </tr>\n",
       "    <tr>\n",
       "      <th>Property_type_Cluster</th>\n",
       "      <td>0.052403</td>\n",
       "    </tr>\n",
       "    <tr>\n",
       "      <th>Property_type_Duplex</th>\n",
       "      <td>0.021661</td>\n",
       "    </tr>\n",
       "    <tr>\n",
       "      <th>Property_type_Penthouse</th>\n",
       "      <td>0.020245</td>\n",
       "    </tr>\n",
       "    <tr>\n",
       "      <th>Property_type_Studio</th>\n",
       "      <td>0.017610</td>\n",
       "    </tr>\n",
       "    <tr>\n",
       "      <th>Property_type_Flat</th>\n",
       "      <td>0.016752</td>\n",
       "    </tr>\n",
       "    <tr>\n",
       "      <th>Property_type_Loft</th>\n",
       "      <td>0.016149</td>\n",
       "    </tr>\n",
       "    <tr>\n",
       "      <th>Property_type_Simplex</th>\n",
       "      <td>0.013567</td>\n",
       "    </tr>\n",
       "    <tr>\n",
       "      <th>Property_type_Bachelor</th>\n",
       "      <td>0.002537</td>\n",
       "    </tr>\n",
       "    <tr>\n",
       "      <th>Property_type_Small Holding</th>\n",
       "      <td>0.000000</td>\n",
       "    </tr>\n",
       "  </tbody>\n",
       "</table>\n",
       "</div>"
      ],
      "text/plain": [
       "                              MI Score\n",
       "Floor_size_(m²)               2.618891\n",
       "Bathrooms                     0.775986\n",
       "Bedrooms                      0.681530\n",
       "Lounges                       0.322557\n",
       "Property_type_House           0.293536\n",
       "suburb_Rosebank and Parktown  0.258187\n",
       "Property_type_Townhouse       0.076511\n",
       "suburb_Modderfontein          0.065685\n",
       "Property_type_Cluster         0.052403\n",
       "Property_type_Duplex          0.021661\n",
       "Property_type_Penthouse       0.020245\n",
       "Property_type_Studio          0.017610\n",
       "Property_type_Flat            0.016752\n",
       "Property_type_Loft            0.016149\n",
       "Property_type_Simplex         0.013567\n",
       "Property_type_Bachelor        0.002537\n",
       "Property_type_Small Holding   0.000000"
      ]
     },
     "execution_count": 13,
     "metadata": {},
     "output_type": "execute_result"
    }
   ],
   "source": [
    "# Store the columns of all the independent variables\n",
    "features = X.columns\n",
    "\n",
    "# Use dicitonary comprehension to apply the mutual info score function on each column, and store the column\n",
    "# name as the key of and the integer value of the mutual info score function as the value. \n",
    "mi_data = {features[i]:mutual_info_score(X[column], y) for i, column in enumerate(X)}\n",
    "mi_df = pd.DataFrame(mi_data, index=['MI Score']).T.sort_values(by='MI Score', ascending=False)\n",
    "mi_df"
   ]
  },
  {
   "cell_type": "markdown",
   "metadata": {},
   "source": [
    "## 3. **Model Selection**\n",
    "___\n",
    "Applying a machine learning algorithm to predict the outcomes based on the dependent features, and comparing the model performances"
   ]
  },
  {
   "cell_type": "code",
   "execution_count": 14,
   "metadata": {},
   "outputs": [],
   "source": [
    "# Store a dictionary where the key is the model name and the value is the ml algorithm\n",
    "model_dict = {\n",
    "    'Random Forest Regressor': RandomForestRegressor(random_state=42),\n",
    "    'XGBoost Regressor': xgb.XGBRegressor(random_state=42),\n",
    "}"
   ]
  },
  {
   "cell_type": "markdown",
   "metadata": {},
   "source": [
    "### 3.1 **Fitting Models on Training Data**"
   ]
  },
  {
   "cell_type": "code",
   "execution_count": 15,
   "metadata": {},
   "outputs": [],
   "source": [
    "def modelFitting(\n",
    "    model: Union[RandomForestRegressor, xgb.XGBRegressor],\n",
    "    X: Optional[pd.DataFrame]=X_train, \n",
    "    y: Optional[pd.DataFrame]=y_train,\n",
    ") ->np.ndarray:\n",
    "    \"\"\"\n",
    "    Trains a model and makes predictions.\n",
    "\n",
    "    Parameters:\n",
    "        - model: A machine learning model (either LogisticRegression or RandomForestClassifier).\n",
    "        - X_train: Training feature data.\n",
    "        - y_train: Training labels.\n",
    "        - X_test: Test feature data for prediction.\n",
    "\n",
    "    Returns:\n",
    "        - y_pred: Predicted labels for the test data, to be compared to known test data.\n",
    "    \"\"\"\n",
    "    # Fit the model with training data\n",
    "    model = model.fit(X, y)\n",
    "\n",
    "    return model\n",
    "\n",
    "def modelPredict(\n",
    "    model: Union[RandomForestRegressor, xgb.XGBRegressor],\n",
    "    independent_variables: Optional[pd.DataFrame]=X_train,\n",
    "    y: Optional[np.ndarray]=y_train\n",
    "    ):\n",
    "    # Make predictions with the fitted model\n",
    "    y_pred = model.predict(independent_variables)\n",
    "    # Return the r2 score of the prediction\n",
    "    pred_r2_score = r2_score(y, y_pred)\n",
    "\n",
    "    return pred_r2_score"
   ]
  },
  {
   "cell_type": "code",
   "execution_count": 16,
   "metadata": {},
   "outputs": [],
   "source": [
    "# Train the model using the training data. \n",
    "fitted_model_dict = {model_name: modelFitting(model) for model_name, model in model_dict.items()}"
   ]
  },
  {
   "cell_type": "code",
   "execution_count": 17,
   "metadata": {},
   "outputs": [],
   "source": [
    "def modelEvaluation(model_dict: dict[str, Union[RandomForestRegressor, xgb.XGBRegressor]]):\n",
    "    # R2 Score on the training set\n",
    "    r2_scores_training = {\n",
    "        f'{model_name}': {'R2 Score (Training Set)': modelPredict(model)}\n",
    "        for model_name, model in model_dict.items()\n",
    "    }\n",
    "\n",
    "    # R2 Score on the test set\n",
    "    r2_scores_test = {\n",
    "        f'{model_name}': {'R2 Score (Test Set)': modelPredict(model, X_test, y_test)}\n",
    "        for model_name, model in model_dict.items()\n",
    "    }\n",
    "\n",
    "    # Create a dataframe from the two scores from the training and test datasets.\n",
    "    evaluation_table = pd.DataFrame.from_dict(r2_scores_training, orient='index')\n",
    "    new_df = pd.DataFrame.from_dict(r2_scores_test, orient='index')\n",
    "\n",
    "    # Append the new dataframe to the existing DataFrame\n",
    "    evaluation_table = pd.concat([evaluation_table, new_df], axis=1)\n",
    "    # Find the percentage difference between the test and training datasets\n",
    "    evaluation_table['Score Difference'] = np.abs(\n",
    "        evaluation_table['R2 Score (Test Set)'] / evaluation_table['R2 Score (Training Set)']\n",
    "    ) * 100 - 100\n",
    "\n",
    "    return evaluation_table"
   ]
  },
  {
   "cell_type": "code",
   "execution_count": 18,
   "metadata": {},
   "outputs": [
    {
     "data": {
      "text/html": [
       "<div>\n",
       "<style scoped>\n",
       "    .dataframe tbody tr th:only-of-type {\n",
       "        vertical-align: middle;\n",
       "    }\n",
       "\n",
       "    .dataframe tbody tr th {\n",
       "        vertical-align: top;\n",
       "    }\n",
       "\n",
       "    .dataframe thead th {\n",
       "        text-align: right;\n",
       "    }\n",
       "</style>\n",
       "<table border=\"1\" class=\"dataframe\">\n",
       "  <thead>\n",
       "    <tr style=\"text-align: right;\">\n",
       "      <th></th>\n",
       "      <th>R2 Score (Training Set)</th>\n",
       "      <th>R2 Score (Test Set)</th>\n",
       "      <th>Score Difference</th>\n",
       "    </tr>\n",
       "  </thead>\n",
       "  <tbody>\n",
       "    <tr>\n",
       "      <th>Random Forest Regressor</th>\n",
       "      <td>0.892585</td>\n",
       "      <td>0.748805</td>\n",
       "      <td>-16.108264</td>\n",
       "    </tr>\n",
       "    <tr>\n",
       "      <th>XGBoost Regressor</th>\n",
       "      <td>0.866048</td>\n",
       "      <td>0.768183</td>\n",
       "      <td>-11.300167</td>\n",
       "    </tr>\n",
       "  </tbody>\n",
       "</table>\n",
       "</div>"
      ],
      "text/plain": [
       "                         R2 Score (Training Set)  R2 Score (Test Set)  \\\n",
       "Random Forest Regressor                 0.892585             0.748805   \n",
       "XGBoost Regressor                       0.866048             0.768183   \n",
       "\n",
       "                         Score Difference  \n",
       "Random Forest Regressor        -16.108264  \n",
       "XGBoost Regressor              -11.300167  "
      ]
     },
     "execution_count": 18,
     "metadata": {},
     "output_type": "execute_result"
    }
   ],
   "source": [
    "# Store the evaluation table for the standard models. \n",
    "evaluation_table = modelEvaluation(fitted_model_dict)\n",
    "evaluation_table"
   ]
  },
  {
   "cell_type": "markdown",
   "metadata": {},
   "source": [
    "### 3.2 **Model Hypertuning**"
   ]
  },
  {
   "cell_type": "code",
   "execution_count": 19,
   "metadata": {},
   "outputs": [],
   "source": [
    "def hyperParameterTune(model, params, X=X_train, y=y_train):\n",
    "    # Instantiate gridsearch\n",
    "    reg = GridSearchCV(model, params, scoring='r2', cv=5, verbose=1, n_jobs=-1, refit=True)\n",
    "\n",
    "    # Fit the model\n",
    "    best_reg = reg.fit(X, y)\n",
    "\n",
    "    # Output the best parameters\n",
    "    print(f\"{best_reg.best_params_}\\n\")\n",
    "\n",
    "    return best_reg\n"
   ]
  },
  {
   "cell_type": "code",
   "execution_count": 20,
   "metadata": {},
   "outputs": [],
   "source": [
    "def crossValidation(\n",
    "    model_name: str,\n",
    "    model: Union[RandomForestRegressor, xgb.XGBRFRegressor],\n",
    "    X: Optional[pd.DataFrame]=X_train, \n",
    "    y: Optional[np.ndarray]=y_train,\n",
    "    ):\n",
    "        # store cross-validated predictions\n",
    "        cv_r2_scores = cross_val_score(model, X, y, scoring='r2', cv=5, n_jobs=-1)\n",
    "\n",
    "        # Evaluate model performance on the resampled training set\n",
    "        print(f\"R² scores before tuning (training set): {cv_r2_scores}\")\n",
    "        print(f\"Mean R² score before tuning (training set): {cv_r2_scores.mean()}\\n\")\n",
    "\n",
    "        return {model_name:{'R2 Score (Training Set)': cv_r2_scores.mean()}}\n"
   ]
  },
  {
   "cell_type": "code",
   "execution_count": 21,
   "metadata": {},
   "outputs": [
    {
     "name": "stdout",
     "output_type": "stream",
     "text": [
      "Fitting 5 folds for each of 9 candidates, totalling 45 fits\n",
      "{'criterion': 'squared_error', 'max_depth': 9, 'n_estimators': 100}\n",
      "\n",
      "Fitting 5 folds for each of 864 candidates, totalling 4320 fits\n"
     ]
    },
    {
     "name": "stderr",
     "output_type": "stream",
     "text": [
      "c:\\Users\\Lenovo S145\\Desktop\\Portfolio\\Property\\.venv\\Lib\\site-packages\\numpy\\ma\\core.py:2846: RuntimeWarning: invalid value encountered in cast\n",
      "  _data = np.array(data, dtype=dtype, copy=copy,\n"
     ]
    },
    {
     "name": "stdout",
     "output_type": "stream",
     "text": [
      "{'colsample_bytree': 1, 'eta': 0.001, 'gamma': 0.2, 'learning_rate': 0.01, 'max_depth': 20, 'min_child_weight': 1, 'n_estimators': 1000, 'subsample': 0.6}\n",
      "\n"
     ]
    }
   ],
   "source": [
    "# Random Forest Regressor \n",
    "rfr_params = {\n",
    "    'n_estimators': [100], \n",
    "    'criterion': ['squared_error', 'absolute_error', 'friedman_mse'],\n",
    "    'max_depth': [7, 9, 11],\n",
    "}\n",
    "\n",
    "# XGBoost Regressor \n",
    "xgbr_params = {\n",
    "    'n_estimators': [500, 800, 1000],\n",
    "    'learning_rate': [0.01, 0.1],\n",
    "    'max_depth': [20, 25, 30, None],\n",
    "    'min_child_weight': [1, 3],\n",
    "    'subsample': [0.4, 0.6, 0.8],\n",
    "    'colsample_bytree': [1],\n",
    "    'gamma': [0.2, 0.5, 1.0],\n",
    "    'eta': [0.001, 0.01]\n",
    "}\n",
    "\n",
    "hyperparameters = [rfr_params, xgbr_params]\n",
    "\n",
    "# Store a dictionary where the key is the model name and the value is the ml algorithm\n",
    "hype_mod_dct = {\n",
    "    'Random Forest Regressor (Tuned)': RandomForestRegressor(random_state=42),\n",
    "    'XGBoost Regressor (Tuned)': xgb.XGBRegressor(random_state=42),\n",
    "}\n",
    "\n",
    "tuned_models_dict = {\n",
    "    model_name: hyperParameterTune(model,hyperparameters[i]) \n",
    "    for i, (model_name, model) in enumerate(hype_mod_dct.items())\n",
    "}"
   ]
  },
  {
   "cell_type": "markdown",
   "metadata": {},
   "source": [
    "### 3.3 **Cross Validation using Tuned Models**"
   ]
  },
  {
   "cell_type": "code",
   "execution_count": 22,
   "metadata": {},
   "outputs": [
    {
     "name": "stdout",
     "output_type": "stream",
     "text": [
      "R² scores before tuning (training set): [0.74249849 0.72102634 0.73427903 0.74208232 0.72904863]\n",
      "Mean R² score before tuning (training set): 0.7337869628801548\n",
      "\n",
      "R² scores before tuning (training set): [0.74800557 0.72491191 0.74416136 0.75249679 0.73266282]\n",
      "Mean R² score before tuning (training set): 0.7404476892261384\n",
      "\n"
     ]
    }
   ],
   "source": [
    "tuned_evaluation_dict = {}\n",
    "for model_name, model in tuned_models_dict.items():\n",
    "    data = crossValidation(model_name, model)\n",
    "    tuned_evaluation_dict.update(data)\n",
    "\n",
    "tuned_evaluation_table = pd.DataFrame.from_dict(tuned_evaluation_dict, orient='index')\n",
    "evaluation_table = pd.concat([evaluation_table, tuned_evaluation_table], axis=0)\n"
   ]
  },
  {
   "cell_type": "code",
   "execution_count": 23,
   "metadata": {},
   "outputs": [
    {
     "data": {
      "text/html": [
       "<div>\n",
       "<style scoped>\n",
       "    .dataframe tbody tr th:only-of-type {\n",
       "        vertical-align: middle;\n",
       "    }\n",
       "\n",
       "    .dataframe tbody tr th {\n",
       "        vertical-align: top;\n",
       "    }\n",
       "\n",
       "    .dataframe thead th {\n",
       "        text-align: right;\n",
       "    }\n",
       "</style>\n",
       "<table border=\"1\" class=\"dataframe\">\n",
       "  <thead>\n",
       "    <tr style=\"text-align: right;\">\n",
       "      <th></th>\n",
       "      <th>R2 Score (Training Set)</th>\n",
       "      <th>R2 Score (Test Set)</th>\n",
       "      <th>Score Difference</th>\n",
       "    </tr>\n",
       "  </thead>\n",
       "  <tbody>\n",
       "    <tr>\n",
       "      <th>Random Forest Regressor</th>\n",
       "      <td>0.892585</td>\n",
       "      <td>0.748805</td>\n",
       "      <td>-16.108264</td>\n",
       "    </tr>\n",
       "    <tr>\n",
       "      <th>XGBoost Regressor</th>\n",
       "      <td>0.866048</td>\n",
       "      <td>0.768183</td>\n",
       "      <td>-11.300167</td>\n",
       "    </tr>\n",
       "    <tr>\n",
       "      <th>Random Forest Regressor (Tuned)</th>\n",
       "      <td>0.733787</td>\n",
       "      <td>NaN</td>\n",
       "      <td>NaN</td>\n",
       "    </tr>\n",
       "    <tr>\n",
       "      <th>XGBoost Regressor (Tuned)</th>\n",
       "      <td>0.740448</td>\n",
       "      <td>NaN</td>\n",
       "      <td>NaN</td>\n",
       "    </tr>\n",
       "  </tbody>\n",
       "</table>\n",
       "</div>"
      ],
      "text/plain": [
       "                                 R2 Score (Training Set)  R2 Score (Test Set)  \\\n",
       "Random Forest Regressor                         0.892585             0.748805   \n",
       "XGBoost Regressor                               0.866048             0.768183   \n",
       "Random Forest Regressor (Tuned)                 0.733787                  NaN   \n",
       "XGBoost Regressor (Tuned)                       0.740448                  NaN   \n",
       "\n",
       "                                 Score Difference  \n",
       "Random Forest Regressor                -16.108264  \n",
       "XGBoost Regressor                      -11.300167  \n",
       "Random Forest Regressor (Tuned)               NaN  \n",
       "XGBoost Regressor (Tuned)                     NaN  "
      ]
     },
     "execution_count": 23,
     "metadata": {},
     "output_type": "execute_result"
    }
   ],
   "source": [
    "evaluation_table"
   ]
  },
  {
   "cell_type": "markdown",
   "metadata": {},
   "source": [
    "### 3.4 **Tuned Model Performance on test data**"
   ]
  },
  {
   "cell_type": "code",
   "execution_count": 24,
   "metadata": {},
   "outputs": [
    {
     "data": {
      "text/plain": [
       "{'Random Forest Regressor (Tuned)': {'R2 Score (Test Set)': 0.7656855397634751},\n",
       " 'XGBoost Regressor (Tuned)': {'R2 Score (Test Set)': 0.776894960540518}}"
      ]
     },
     "execution_count": 24,
     "metadata": {},
     "output_type": "execute_result"
    }
   ],
   "source": [
    "tuned_test_eval_dict = {}\n",
    "for model_name, best_model in tuned_models_dict.items():\n",
    "    y_pred_test = best_model.predict(X_test)\n",
    "    r2_test = r2_score(y_test, y_pred_test)\n",
    "    data = {model_name: {'R2 Score (Test Set)': r2_test}}\n",
    "    tuned_test_eval_dict.update(data)\n",
    "\n",
    "tuned_test_eval_dict"
   ]
  },
  {
   "cell_type": "code",
   "execution_count": 25,
   "metadata": {},
   "outputs": [
    {
     "data": {
      "text/html": [
       "<div>\n",
       "<style scoped>\n",
       "    .dataframe tbody tr th:only-of-type {\n",
       "        vertical-align: middle;\n",
       "    }\n",
       "\n",
       "    .dataframe tbody tr th {\n",
       "        vertical-align: top;\n",
       "    }\n",
       "\n",
       "    .dataframe thead th {\n",
       "        text-align: right;\n",
       "    }\n",
       "</style>\n",
       "<table border=\"1\" class=\"dataframe\">\n",
       "  <thead>\n",
       "    <tr style=\"text-align: right;\">\n",
       "      <th></th>\n",
       "      <th>R2 Score (Training Set)</th>\n",
       "      <th>R2 Score (Test Set)</th>\n",
       "      <th>Score Difference</th>\n",
       "    </tr>\n",
       "  </thead>\n",
       "  <tbody>\n",
       "    <tr>\n",
       "      <th>Random Forest Regressor</th>\n",
       "      <td>0.892585</td>\n",
       "      <td>0.748805</td>\n",
       "      <td>14.377998</td>\n",
       "    </tr>\n",
       "    <tr>\n",
       "      <th>XGBoost Regressor</th>\n",
       "      <td>0.866048</td>\n",
       "      <td>0.768183</td>\n",
       "      <td>9.786482</td>\n",
       "    </tr>\n",
       "    <tr>\n",
       "      <th>Random Forest Regressor (Tuned)</th>\n",
       "      <td>0.733787</td>\n",
       "      <td>0.765686</td>\n",
       "      <td>3.189858</td>\n",
       "    </tr>\n",
       "    <tr>\n",
       "      <th>XGBoost Regressor (Tuned)</th>\n",
       "      <td>0.740448</td>\n",
       "      <td>0.776895</td>\n",
       "      <td>3.644727</td>\n",
       "    </tr>\n",
       "  </tbody>\n",
       "</table>\n",
       "</div>"
      ],
      "text/plain": [
       "                                 R2 Score (Training Set)  R2 Score (Test Set)  \\\n",
       "Random Forest Regressor                         0.892585             0.748805   \n",
       "XGBoost Regressor                               0.866048             0.768183   \n",
       "Random Forest Regressor (Tuned)                 0.733787             0.765686   \n",
       "XGBoost Regressor (Tuned)                       0.740448             0.776895   \n",
       "\n",
       "                                 Score Difference  \n",
       "Random Forest Regressor                 14.377998  \n",
       "XGBoost Regressor                        9.786482  \n",
       "Random Forest Regressor (Tuned)          3.189858  \n",
       "XGBoost Regressor (Tuned)                3.644727  "
      ]
     },
     "execution_count": 25,
     "metadata": {},
     "output_type": "execute_result"
    }
   ],
   "source": [
    "# Reassign values in df\n",
    "for key, item in tuned_test_eval_dict.items():\n",
    "    evaluation_table.loc[key, 'R2 Score (Test Set)'] = item.get('R2 Score (Test Set)')\n",
    "\n",
    "# Find the best fitting model\n",
    "evaluation_table['Score Difference'] = np.abs(\n",
    "    evaluation_table['R2 Score (Test Set)'] - evaluation_table['R2 Score (Training Set)']\n",
    ") * 100\n",
    "evaluation_table"
   ]
  },
  {
   "cell_type": "code",
   "execution_count": 37,
   "metadata": {},
   "outputs": [],
   "source": [
    "# Create the masking conditions\n",
    "underfitting_mask = (evaluation_table['R2 Score (Test Set)'] < 0.7) & (evaluation_table['R2 Score (Training Set)'] < 0.7)\n",
    "good_fit_mask = (evaluation_table['R2 Score (Test Set)'] >= 0.7) & (evaluation_table['R2 Score (Training Set)'] >= 0.7)\n",
    "\n",
    "# Create new column with values determined by the conditions of the other features. \n",
    "evaluation_table['Model Fit'] = (\n",
    "    np.where(\n",
    "        (good_fit_mask) & (evaluation_table['Score Difference'] <= 5), 'Good Fit',\n",
    "         np.where(\n",
    "             (good_fit_mask) & (evaluation_table['Score Difference'] < 10), 'Okay Fit',\n",
    "                  np.where(\n",
    "                      (good_fit_mask) & (evaluation_table['Score Difference'] >= 10), 'Overfitting',\n",
    "                      np.where(underfitting_mask, 'Underfitting', 'Unknown')\n",
    "                    )\n",
    "            )\n",
    "    )\n",
    ")"
   ]
  },
  {
   "cell_type": "code",
   "execution_count": 40,
   "metadata": {},
   "outputs": [
    {
     "data": {
      "text/html": [
       "<div>\n",
       "<style scoped>\n",
       "    .dataframe tbody tr th:only-of-type {\n",
       "        vertical-align: middle;\n",
       "    }\n",
       "\n",
       "    .dataframe tbody tr th {\n",
       "        vertical-align: top;\n",
       "    }\n",
       "\n",
       "    .dataframe thead th {\n",
       "        text-align: right;\n",
       "    }\n",
       "</style>\n",
       "<table border=\"1\" class=\"dataframe\">\n",
       "  <thead>\n",
       "    <tr style=\"text-align: right;\">\n",
       "      <th></th>\n",
       "      <th>R2 Score (Training Set)</th>\n",
       "      <th>R2 Score (Test Set)</th>\n",
       "      <th>Score Difference</th>\n",
       "      <th>Model Fit</th>\n",
       "    </tr>\n",
       "  </thead>\n",
       "  <tbody>\n",
       "    <tr>\n",
       "      <th>Random Forest Regressor</th>\n",
       "      <td>0.892585</td>\n",
       "      <td>0.748805</td>\n",
       "      <td>14.377998</td>\n",
       "      <td>Overfitting</td>\n",
       "    </tr>\n",
       "    <tr>\n",
       "      <th>XGBoost Regressor</th>\n",
       "      <td>0.866048</td>\n",
       "      <td>0.768183</td>\n",
       "      <td>9.786482</td>\n",
       "      <td>Okay Fit</td>\n",
       "    </tr>\n",
       "    <tr>\n",
       "      <th>Random Forest Regressor (Tuned)</th>\n",
       "      <td>0.733787</td>\n",
       "      <td>0.765686</td>\n",
       "      <td>3.189858</td>\n",
       "      <td>Good Fit</td>\n",
       "    </tr>\n",
       "    <tr>\n",
       "      <th>XGBoost Regressor (Tuned)</th>\n",
       "      <td>0.740448</td>\n",
       "      <td>0.776895</td>\n",
       "      <td>3.644727</td>\n",
       "      <td>Good Fit</td>\n",
       "    </tr>\n",
       "  </tbody>\n",
       "</table>\n",
       "</div>"
      ],
      "text/plain": [
       "                                 R2 Score (Training Set)  R2 Score (Test Set)  \\\n",
       "Random Forest Regressor                         0.892585             0.748805   \n",
       "XGBoost Regressor                               0.866048             0.768183   \n",
       "Random Forest Regressor (Tuned)                 0.733787             0.765686   \n",
       "XGBoost Regressor (Tuned)                       0.740448             0.776895   \n",
       "\n",
       "                                 Score Difference    Model Fit  \n",
       "Random Forest Regressor                 14.377998  Overfitting  \n",
       "XGBoost Regressor                        9.786482     Okay Fit  \n",
       "Random Forest Regressor (Tuned)          3.189858     Good Fit  \n",
       "XGBoost Regressor (Tuned)                3.644727     Good Fit  "
      ]
     },
     "execution_count": 40,
     "metadata": {},
     "output_type": "execute_result"
    }
   ],
   "source": [
    "evaluation_table"
   ]
  },
  {
   "cell_type": "code",
   "execution_count": 44,
   "metadata": {},
   "outputs": [],
   "source": [
    "# Filter the evaluation table by the records that are good fit in the model fit feature, and find the index\n",
    "# of the record with the max value in the R2 Score (Test Set) feature\n",
    "best_model = (\n",
    "    evaluation_table[(evaluation_table['Model Fit'] == 'Good Fit')]['R2 Score (Test Set)']\n",
    "    .idxmax()\n",
    ")\n",
    "# Add the tuned_models_dict to the fitted_model_dict\n",
    "fitted_model_dict.update(tuned_models_dict)\n",
    "# Store the best model using the model name as the key.\n",
    "best_model = fitted_model_dict.get(best_model)"
   ]
  },
  {
   "cell_type": "markdown",
   "metadata": {},
   "source": [
    "## **Save Model**\n",
    "___\n",
    "\n",
    "Save the best performing model for deployment. "
   ]
  },
  {
   "cell_type": "code",
   "execution_count": 46,
   "metadata": {},
   "outputs": [],
   "source": [
    "# Use context manager to write pickle file\n",
    "with open('trained_model.pkl', 'wb') as f:\n",
    "    pickle.dump(best_model, f)\n",
    "# Load the saved model from the pickle file\n",
    "with open('trained_model.pkl', 'rb') as f:\n",
    "    loaded_model = pickle.load(f)"
   ]
  },
  {
   "cell_type": "code",
   "execution_count": 47,
   "metadata": {},
   "outputs": [
    {
     "name": "stdout",
     "output_type": "stream",
     "text": [
      "0.776894960540518 0.09557169651458879\n"
     ]
    }
   ],
   "source": [
    "#  Make predictions with X_test\n",
    "y_pred_pickle = loaded_model.predict(X_test)\n",
    "\n",
    "# Use classification report to return key evaluation metrics\n",
    "r2_score = r2_score(y_test, y_pred_pickle)\n",
    "mse = mean_squared_error(y_test, y_pred_pickle)\n",
    "print(r2_score, mse)"
   ]
  },
  {
   "cell_type": "code",
   "execution_count": 48,
   "metadata": {},
   "outputs": [
    {
     "data": {
      "text/plain": [
       "array(['Floor_size_(m²)', 'Bedrooms', 'Bathrooms', 'Lounges',\n",
       "       'Property_type_Bachelor', 'Property_type_Cluster',\n",
       "       'Property_type_Duplex', 'Property_type_Flat',\n",
       "       'Property_type_House', 'Property_type_Loft',\n",
       "       'Property_type_Penthouse', 'Property_type_Simplex',\n",
       "       'Property_type_Small Holding', 'Property_type_Studio',\n",
       "       'Property_type_Townhouse', 'suburb_Modderfontein',\n",
       "       'suburb_Rosebank and Parktown'], dtype='<U28')"
      ]
     },
     "execution_count": 48,
     "metadata": {},
     "output_type": "execute_result"
    }
   ],
   "source": [
    "loaded_model.feature_names_in_"
   ]
  }
 ],
 "metadata": {
  "kernelspec": {
   "display_name": ".venv",
   "language": "python",
   "name": "python3"
  },
  "language_info": {
   "codemirror_mode": {
    "name": "ipython",
    "version": 3
   },
   "file_extension": ".py",
   "mimetype": "text/x-python",
   "name": "python",
   "nbconvert_exporter": "python",
   "pygments_lexer": "ipython3",
   "version": "3.12.2"
  }
 },
 "nbformat": 4,
 "nbformat_minor": 2
}
